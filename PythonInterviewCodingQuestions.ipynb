{
 "cells": [
  {
   "cell_type": "markdown",
   "id": "949d788c",
   "metadata": {},
   "source": [
    "### Question 1:"
   ]
  },
  {
   "cell_type": "code",
   "execution_count": null,
   "id": "44d7434e",
   "metadata": {},
   "outputs": [],
   "source": [
    "# Write a function called reverse_string that takes a string as input and returns the reverse of that string.\n",
    "# Input: \"hello\"\n",
    "# Output: \"olleh\""
   ]
  },
  {
   "cell_type": "code",
   "execution_count": null,
   "id": "fbea8beb",
   "metadata": {},
   "outputs": [],
   "source": [
    "\n",
    "def reverse_string(inputstr):\n",
    "#     first approach simply by slice\n",
    "#     return inputstr[::-1]\n",
    "\n",
    "# second approach by iterating string in reverse and appendinf the result\n",
    "    res=\"\"\n",
    "    for ch in range(len(inputstr)-1,-1,-1):\n",
    "#         print(inputstr[ch])\n",
    "        res = res + inputstr[ch]\n",
    "    return res"
   ]
  },
  {
   "cell_type": "code",
   "execution_count": null,
   "id": "6bdc35ba",
   "metadata": {},
   "outputs": [],
   "source": [
    "reverse_string(\"yahoo here\")"
   ]
  },
  {
   "cell_type": "markdown",
   "id": "e8064c51",
   "metadata": {},
   "source": [
    "### Question 2:"
   ]
  },
  {
   "cell_type": "code",
   "execution_count": null,
   "id": "4aef5073",
   "metadata": {},
   "outputs": [],
   "source": [
    "# Write a function called count_vowels that takes a string as input and returns the \n",
    "# count of vowels (a, e, i, o, u) in the string.\n",
    "# Input: \"hello\"\n",
    "# Output: 2 (since there are two vowels 'e' and 'o' in the string)\n"
   ]
  },
  {
   "cell_type": "code",
   "execution_count": null,
   "id": "e372444b",
   "metadata": {},
   "outputs": [],
   "source": [
    "def count_vowels(inputstr):\n",
    "    vowelstr = \"aeiou\"\n",
    "    count = 0\n",
    "    for ch in inputstr:\n",
    "        if ch in ['a','e','i','o','u','A','E','I','O','U']: # checking in list with vowels\n",
    "#         if ch.lower() in vowelstr: #or we can check by lower and directly in vowel str\n",
    "            count+=1\n",
    "    return count \n",
    "    #return sum([1 for ch in inputstr if ch.lower() in vowelstr])"
   ]
  },
  {
   "cell_type": "code",
   "execution_count": null,
   "id": "cc4d0e47",
   "metadata": {},
   "outputs": [],
   "source": [
    "#Another approach by dictionary and taking count in string for each vowel\n",
    "def count_vowels_dictonary(s):\n",
    "    vowels = {'a': 0, 'e': 0, 'i': 0, 'o': 0, 'u': 0}\n",
    "    for char in s.lower():\n",
    "        if char in vowels:\n",
    "            vowels[char] += 1\n",
    "    return sum(vowels.values())"
   ]
  },
  {
   "cell_type": "code",
   "execution_count": null,
   "id": "0575d873",
   "metadata": {},
   "outputs": [],
   "source": [
    "count_vowels(\"hello\")"
   ]
  },
  {
   "cell_type": "markdown",
   "id": "a8b7270a",
   "metadata": {},
   "source": [
    "### Question 3: "
   ]
  },
  {
   "cell_type": "code",
   "execution_count": null,
   "id": "f547bb47",
   "metadata": {},
   "outputs": [],
   "source": [
    "\n",
    "# Write a function called is_palindrome that takes a string as input and \n",
    "# returns True if the string is a palindrome, and False otherwise. \n",
    "# A palindrome is a word, phrase, number, or other sequence of characters that reads the \n",
    "# same forward and backward.\n",
    "\n",
    "# Input: \"radar\"\n",
    "# Output: True"
   ]
  },
  {
   "cell_type": "code",
   "execution_count": null,
   "id": "2d4fc050",
   "metadata": {},
   "outputs": [],
   "source": [
    "def is_palidrome(inputstr):\n",
    "    if inputstr[::-1].lower() == inputstr.lower():\n",
    "        return True\n",
    "    else:\n",
    "        return False\n",
    "    \n",
    "#     return inputstr[::-1].lower() == inputstr.lower()\n",
    "\n",
    "\n",
    "is_palidrome(\"Nitin\") \n"
   ]
  },
  {
   "cell_type": "markdown",
   "id": "69f224d0",
   "metadata": {},
   "source": [
    "### Question 4:"
   ]
  },
  {
   "cell_type": "code",
   "execution_count": 1,
   "id": "eaab2e2b",
   "metadata": {},
   "outputs": [],
   "source": [
    "# Write a function called is_anagram that takes two strings as input \n",
    "# and returns True if they are anagrams of each other, and False otherwise. \n",
    "# An anagram is a word or phrase formed by rearranging the letters of another \n",
    "# word or phrase, using all the original letters exactly once.\n",
    "\n",
    "# Input: \"listen\", \"silent\"\n",
    "# Output: True (since \"listen\" and \"silent\" are anagrams of each other)"
   ]
  },
  {
   "cell_type": "code",
   "execution_count": 7,
   "id": "d88bb216",
   "metadata": {},
   "outputs": [],
   "source": [
    "def is_anagram(str1, str2):\n",
    "    # Remove spaces and convert strings to lowercase\n",
    "    str1 = str1.replace(\" \", \"\").lower()\n",
    "    str2 = str2.replace(\" \", \"\").lower()\n",
    "    \n",
    "    # Check if sorted strings are equal\n",
    "    return sorted(str1) == sorted(str2)"
   ]
  },
  {
   "cell_type": "code",
   "execution_count": 9,
   "id": "0769efcc",
   "metadata": {},
   "outputs": [],
   "source": [
    "def is_anagram_set(s1, s2):\n",
    "    # Remove spaces and convert strings to lowercase\n",
    "    s1 = s1.replace(\" \", \"\").lower()\n",
    "    s2 = s2.replace(\" \", \"\").lower()\n",
    "    \n",
    "    # Check if the set of characters in both strings is the same\n",
    "    return set(s1) == set(s2)\n"
   ]
  },
  {
   "cell_type": "code",
   "execution_count": 13,
   "id": "a5c180d3",
   "metadata": {},
   "outputs": [],
   "source": [
    "def is_anagram_basic(s1, s2):\n",
    "    # Remove spaces and convert strings to lowercase\n",
    "    s1 = s1.replace(\" \", \"\").lower()\n",
    "    s2 = s2.replace(\" \", \"\").lower()\n",
    "\n",
    "    #check first if length of both strings are same or not.. first basic check\n",
    "    if len(s1) != len(s2):\n",
    "        return False\n",
    "    \n",
    "    # create a dictionary which will hold character and its count from first string\n",
    "    chr_count_dict={}\n",
    "    for ch in s1:\n",
    "        chr_count_dict[ch] = chr_count_dict.get(ch,0)+1\n",
    "    \n",
    "    #now we have create a count of chararchter from first string\n",
    "    #next step will be to traverse s2 and check if char from s2 present in s1 if yes decrease the corresponding count\n",
    "\n",
    "    for char in s2:\n",
    "        if char not in chr_count_dict: #means a character in s2 is not there in s1\n",
    "            return False\n",
    "        else: #decrement the counter of character from dictionary\n",
    "            chr_count_dict[ch] -=1\n",
    "\n",
    "    #now 3rd step will be check if all counts are 0 for dictionary or any char count left after travering\n",
    "    # second string thorugh out dictionary\n",
    "\n",
    "    if sum(chr_count_dict.values()) == 0 :\n",
    "        return True\n",
    "    else:\n",
    "        return False"
   ]
  },
  {
   "cell_type": "code",
   "execution_count": 92,
   "id": "18e70f8d",
   "metadata": {},
   "outputs": [
    {
     "name": "stdout",
     "output_type": "stream",
     "text": [
      "Input: listen , silent\n",
      "Is Anagram: True\n",
      "Is Anagram: True\n"
     ]
    }
   ],
   "source": [
    "string1 = \"listen\"\n",
    "string2 = \"silent\"\n",
    "print(\"Input:\", string1, \",\", string2)\n",
    "print(\"Is Anagram:\", is_anagram_basic(string1, string2))\n",
    "print(\"Is Anagram:\", is_anagram_set(string1, string2))"
   ]
  },
  {
   "cell_type": "markdown",
   "id": "aaf98c29",
   "metadata": {},
   "source": [
    "Question 5:"
   ]
  },
  {
   "cell_type": "markdown",
   "id": "89260004",
   "metadata": {},
   "source": [
    "Write a function reverse_words that takes a string as input and returns a new string with the words reversed. \n",
    "For example, if the input string is \"hello world\", the output should be \"world hello\"."
   ]
  },
  {
   "cell_type": "code",
   "execution_count": 34,
   "id": "5ac179e8",
   "metadata": {},
   "outputs": [],
   "source": [
    "def reverse_words(s):\n",
    "    # Split the string into a list of words\n",
    "    list_of_string = s.split(\" \")\n",
    "    \n",
    "    # Reverse the list of words and join them into a single string\n",
    "    reversed_string = \" \".join(list_of_string[::-1])\n",
    "    \n",
    "    return reversed_string"
   ]
  },
  {
   "cell_type": "code",
   "execution_count": 35,
   "id": "b0269ff1",
   "metadata": {},
   "outputs": [
    {
     "data": {
      "text/plain": [
       "'world hello'"
      ]
     },
     "execution_count": 35,
     "metadata": {},
     "output_type": "execute_result"
    }
   ],
   "source": [
    "reverse_words(\"hello world\")"
   ]
  },
  {
   "cell_type": "code",
   "execution_count": 90,
   "id": "e4435dcd",
   "metadata": {},
   "outputs": [
    {
     "name": "stdout",
     "output_type": "stream",
     "text": [
      "genious are you how there world hello\n"
     ]
    }
   ],
   "source": [
    "#second basic approach in which we are not using split\n",
    "def reverse_words(s):\n",
    "    space_pos=[]\n",
    "    # for i,ch in enumerate(s):\n",
    "    #     if ch == \" \":\n",
    "    #         space_pos.append(i)\n",
    "\n",
    "    #short hand for above by list comprehsion can be\n",
    "    space_pos= [i for i,ch in enumerate(s) if ch == \" \"]\n",
    "\n",
    "    # now we know the positon of space so we can slice word between 1 space  to another and append them in list\n",
    "    start=0\n",
    "    res=[]\n",
    "    for x in space_pos:\n",
    "        res.append(s[start:x])\n",
    "        start=x+1#increment the postion for next slice to \n",
    "\n",
    "    #check our start is less than length if yes means we have 1 last word in string\n",
    "    if len(s) > start:#this is for the last word remaining after last space in string\n",
    "        res.append(s[start:]) #extracting last word from string and appending to result list\n",
    "\n",
    "    print(\" \".join(reversed(res))) #reversed list and joined it\n",
    "\n",
    "\n",
    "reverse_words(\"hello world there how you are genious\")"
   ]
  },
  {
   "cell_type": "code",
   "execution_count": null,
   "id": "5015e238",
   "metadata": {},
   "outputs": [],
   "source": [
    "#second basic approach in which we are not using split\n",
    "def reverse_words(s):\n",
    "    space_pos=[]\n",
    "    space_pos= [i for i,ch in enumerate(s) if ch == \" \"]\n",
    "\n",
    "    # now we know the positon of space so we can slice word between 1 space  to another and append them in list\n",
    "    start=0\n",
    "    res=[]\n",
    "    for x in space_pos:\n",
    "        res.append(s[start:x])\n",
    "        start=x+1#increment the postion for next word \n",
    "\n",
    "    #check our start is less than length if yes means we have 1 last word in string\n",
    "    if len(s) > start:#this is for the last word remaining after last space in string\n",
    "        res.append(s[start:]) #extracting last word from string and appending to result list\n",
    "\n",
    "    print(\" \".join(reversed(res))) #reversed list and joined it\n",
    "\n",
    "\n",
    "reverse_words(\"hello world there how you are genious\")"
   ]
  },
  {
   "cell_type": "markdown",
   "id": "f9e90f50",
   "metadata": {},
   "source": [
    "Question6: \n",
    "\n",
    "Write a function is_unique that takes a string as input and returns True if all characters in the string are unique (i.e., there are no duplicate characters), and False otherwise.\n",
    "\n",
    "For example:\n",
    "\n",
    "\"abcde\" is unique because all characters appear only once.\n",
    "\"hello\" is not unique because the letter 'l' appears more than once.\n",
    "You can solve this problem using various approaches, such as using a set to keep track of seen characters or sorting the string and checking adjacent characters."
   ]
  },
  {
   "cell_type": "code",
   "execution_count": 93,
   "id": "cc7dc61b",
   "metadata": {},
   "outputs": [],
   "source": [
    "def is_unique(inp_str):\n",
    "    return len(set(inp_str)) == len(inp_str)"
   ]
  },
  {
   "cell_type": "code",
   "execution_count": 96,
   "id": "602e899f",
   "metadata": {},
   "outputs": [
    {
     "data": {
      "text/plain": [
       "False"
      ]
     },
     "execution_count": 96,
     "metadata": {},
     "output_type": "execute_result"
    }
   ],
   "source": [
    "is_unique(\"hello\")"
   ]
  },
  {
   "cell_type": "code",
   "execution_count": 121,
   "id": "c7864bf9",
   "metadata": {},
   "outputs": [
    {
     "name": "stdout",
     "output_type": "stream",
     "text": [
      "['e', 'h', 'l', 'o']\n"
     ]
    },
    {
     "data": {
      "text/plain": [
       "True"
      ]
     },
     "execution_count": 121,
     "metadata": {},
     "output_type": "execute_result"
    }
   ],
   "source": [
    "def is_unique(inp_str):\n",
    "    #first step sort the list so duplicte come adjacent to each other\n",
    "    sorted_list=sorted(inp_str)\n",
    "    print(sorted_list)\n",
    "    for i in range(0,len(sorted_list)-1):\n",
    "        if sorted_list[i] == sorted_list[i+1]:#comparing current element to next one as this is sorted so duplicate will be immediate next char\n",
    "            return False\n",
    "    return True\n",
    "\n",
    "\n",
    "is_unique(\"helo\")"
   ]
  },
  {
   "cell_type": "markdown",
   "id": "c9697f2e",
   "metadata": {},
   "source": [
    "Question 7:"
   ]
  },
  {
   "cell_type": "markdown",
   "id": "22bb92bf",
   "metadata": {},
   "source": []
  },
  {
   "cell_type": "markdown",
   "id": "638c6e4c",
   "metadata": {},
   "source": [
    "Given a list of integers, write a function to find the two numbers that sum up to a specific target. You may assume that each input would have exactly one solution, and you cannot use the same element twice.\n",
    "\n",
    "Example:\n",
    "nums = [2, 7, 11, 15]\n",
    "target = 9"
   ]
  },
  {
   "cell_type": "code",
   "execution_count": 133,
   "id": "28a82111",
   "metadata": {},
   "outputs": [
    {
     "data": {
      "text/plain": [
       "[1, 2]"
      ]
     },
     "execution_count": 133,
     "metadata": {},
     "output_type": "execute_result"
    }
   ],
   "source": [
    "def two_sum(nums,target):\n",
    "    # SOLUTION 1 :\n",
    "    # THis solution traverse list and checks the complement is there at any index if yes then returns the index of current value\n",
    "    # and complement value to target\n",
    "\n",
    "    for idx,elem in enumerate(nums):\n",
    "        second_no_tosearch = target - elem\n",
    "        if second_no_tosearch in nums:\n",
    "            return [idx,nums.index(second_no_tosearch)]\n",
    "    return []\n",
    "\n",
    "\n",
    "# SOLUTION 2:\n",
    "# This solution utilizes a dictionary to store the indices of the numbers encountered so far. \n",
    "# It iterates through the list once, and for each element, it calculates the complement needed to reach the target sum. \n",
    "# If the complement is found in the dictionary, it means that the current number and its complement form the target sum, \n",
    "# so it returns their indices.\n",
    "#  If not, it adds the current number and its index to the dictionary. \n",
    "\n",
    "    element_indx_map={}\n",
    "    for idx,elem in enumerate(nums):\n",
    "        complement=target-elem\n",
    "        if complement in element_indx_map:\n",
    "            return [idx,element_indx_map[complement]]\n",
    "        element_indx_map[elem]=idx\n",
    "    return []\n",
    "\n",
    "\n",
    "two_sum([2, 7, 11, 15],18)"
   ]
  },
  {
   "cell_type": "markdown",
   "id": "4c16b0c8",
   "metadata": {},
   "source": []
  },
  {
   "cell_type": "markdown",
   "id": "a8bd1dd5",
   "metadata": {},
   "source": [
    "Question 8:"
   ]
  },
  {
   "cell_type": "markdown",
   "id": "4163dfa3",
   "metadata": {},
   "source": [
    "Write a Python function that takes a list of integers as input and returns the maximum product \n",
    "that can be obtained from any three integers in the list.\n",
    "\n",
    "Example:\n",
    "\n",
    "python\n",
    "Copy code\n",
    "Input: [1, 2, 3, 4]\n",
    "Output: 24  # Maximum product: 3 * 4 * 2"
   ]
  },
  {
   "cell_type": "markdown",
   "id": "29165fef",
   "metadata": {},
   "source": []
  },
  {
   "cell_type": "code",
   "execution_count": 153,
   "id": "064090a9",
   "metadata": {},
   "outputs": [
    {
     "data": {
      "text/plain": [
       "392"
      ]
     },
     "execution_count": 153,
     "metadata": {},
     "output_type": "execute_result"
    }
   ],
   "source": [
    "def getMaxProduct(lst):\n",
    "    sorted_list = sorted(lst)\n",
    "    last_three = sorted_list[-3:]\n",
    "    first_two = sorted_list[:2]\n",
    "    \n",
    "    # Product of the two smallest numbers and the largest number\n",
    "    product1 = first_two[0] * first_two[1] * sorted_list[-1]\n",
    "    \n",
    "    # Product of the three largest numbers\n",
    "    product2 = last_three[0] * last_three[1] * last_three[2]\n",
    "    \n",
    "    # Return the maximum of the two products\n",
    "    return max(product1, product2)\n",
    "\n",
    "getMaxProduct([1,2,3,4,5,6,7,-6,-8,-7])"
   ]
  },
  {
   "cell_type": "markdown",
   "id": "35ccb7b1",
   "metadata": {},
   "source": [
    "Question 9:"
   ]
  },
  {
   "cell_type": "markdown",
   "id": "afa002a4",
   "metadata": {},
   "source": [
    "Given a string, write a function to check if it is a palindrome. A palindrome is a word, phrase, number, or other sequence of characters that reads the same forward and backward. You may ignore punctuation, capitalization, and spaces.\n",
    "\n",
    "Input: \"A man, a plan, a canal: Panama\"\n",
    "Output: True  # The string is a palindrome\n",
    "\n",
    "Input: \"race a car\"\n",
    "Output: False  # The string is not a palindrome\n"
   ]
  },
  {
   "cell_type": "code",
   "execution_count": 174,
   "id": "35bfd174",
   "metadata": {},
   "outputs": [
    {
     "name": "stdout",
     "output_type": "stream",
     "text": [
      "True\n",
      "False\n"
     ]
    }
   ],
   "source": [
    "def checkStringPalindrome(inptstr):\n",
    "    punctuation=[\",\",\":\",\";\",\"!\"]\n",
    "    for punct in punctuation:\n",
    "        inptstr=inptstr.replace(punct,\"\")\n",
    "    lst=\"\".join(inptstr.lower().split())\n",
    "    return lst == lst[::-1]\n",
    "\n",
    "\n",
    "#Second approach we can use string isalnum() method \n",
    "\n",
    "def checkStringPalindrome2(inptstr):\n",
    "    # Remove punctuation, convert to lowercase, and remove whitespace\n",
    "    cleaned_str = ''.join(char.lower() for char in inptstr if char.isalnum())\n",
    "    # Check if the cleaned string is equal to its reverse\n",
    "    return cleaned_str == cleaned_str[::-1]\n",
    "\n",
    "print(checkStringPalindrome(\"A man, a plan, a canal: Panama\"))  # Output: True\n",
    "print(checkStringPalindrome(\"race a car\"))  # Output: False"
   ]
  },
  {
   "cell_type": "markdown",
   "id": "39fa4908",
   "metadata": {},
   "source": [
    "Question 10:\n",
    "\n",
    "Given a list of integers, write a function to move all the zeros to the end of the list while maintaining the relative order of the non-zero elements."
   ]
  },
  {
   "cell_type": "markdown",
   "id": "df23887f",
   "metadata": {},
   "source": [
    "Input: [0, 1, 0, 3, 12]\n",
    "Output: [1, 3, 12, 0, 0]\n",
    "\n",
    "Input: [0, 0, 0, 1, 2, 3]\n",
    "Output: [1, 2, 3, 0, 0, 0]\n"
   ]
  },
  {
   "cell_type": "code",
   "execution_count": 198,
   "id": "ed7d627a",
   "metadata": {},
   "outputs": [
    {
     "data": {
      "text/plain": [
       "[1, 3, 12, 0, 0]"
      ]
     },
     "execution_count": 198,
     "metadata": {},
     "output_type": "execute_result"
    }
   ],
   "source": [
    "#First approach here we will simply make 2 list one with non zero and after that we will append no of zeros in it\n",
    "def moveZerosToLast1(nums):\n",
    "    res=[nums[i] for i in range(len(nums)) if nums[i] != 0]\n",
    "    for i in range(len(nums)-len(res)+1):\n",
    "        res.append(0)\n",
    "    return res\n",
    "\n",
    "#second approach where we swap the element where non zero is encounters and make the increment in non zero indx to 1\n",
    "def moveZerosToLast(nums):\n",
    "    non_zero_idx = 0 #swapping first element with itself will not make difference so we have taken starting non zero index as 0\n",
    "\n",
    "    for i in range(len(nums)):\n",
    "        # If the current element is non-zero, swap it with the element at non_zero_idx\n",
    "        if nums[i] != 0:\n",
    "            nums[i], nums[non_zero_idx] = nums[non_zero_idx], nums[i]\n",
    "            non_zero_idx += 1\n",
    "    return nums\n",
    "\n",
    "    \n",
    "\n",
    "moveZerosToLast([0, 1, 0, 3, 12])\n"
   ]
  },
  {
   "cell_type": "code",
   "execution_count": null,
   "id": "bffd1a1b",
   "metadata": {},
   "outputs": [],
   "source": []
  }
 ],
 "metadata": {
  "kernelspec": {
   "display_name": "Python 3.10.8 64-bit",
   "language": "python",
   "name": "python3"
  },
  "language_info": {
   "codemirror_mode": {
    "name": "ipython",
    "version": 3
   },
   "file_extension": ".py",
   "mimetype": "text/x-python",
   "name": "python",
   "nbconvert_exporter": "python",
   "pygments_lexer": "ipython3",
   "version": "3.10.8"
  },
  "vscode": {
   "interpreter": {
    "hash": "aee8b7b246df8f9039afb4144a1f6fd8d2ca17a180786b69acc140d282b71a49"
   }
  }
 },
 "nbformat": 4,
 "nbformat_minor": 5
}
