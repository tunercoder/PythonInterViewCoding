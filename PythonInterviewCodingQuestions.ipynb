{
 "cells": [
  {
   "cell_type": "markdown",
   "id": "949d788c",
   "metadata": {},
   "source": [
    "### Question 1:"
   ]
  },
  {
   "cell_type": "code",
   "execution_count": 1,
   "id": "44d7434e",
   "metadata": {},
   "outputs": [],
   "source": [
    "# Write a function called reverse_string that takes a string as input and returns the reverse of that string.\n",
    "# Input: \"hello\"\n",
    "# Output: \"olleh\""
   ]
  },
  {
   "cell_type": "code",
   "execution_count": 2,
   "id": "fbea8beb",
   "metadata": {},
   "outputs": [],
   "source": [
    "\n",
    "def reverse_string(inputstr):\n",
    "#     first approach simply by slice\n",
    "#     return inputstr[::-1]\n",
    "\n",
    "# second approach by iterating string in reverse and appendinf the result\n",
    "    res=\"\"\n",
    "    for ch in range(len(inputstr)-1,-1,-1):\n",
    "#         print(inputstr[ch])\n",
    "        res = res + inputstr[ch]\n",
    "    return res"
   ]
  },
  {
   "cell_type": "code",
   "execution_count": 3,
   "id": "6bdc35ba",
   "metadata": {},
   "outputs": [
    {
     "data": {
      "text/plain": [
       "'ereh oohay'"
      ]
     },
     "execution_count": 3,
     "metadata": {},
     "output_type": "execute_result"
    }
   ],
   "source": [
    "reverse_string(\"yahoo here\")"
   ]
  },
  {
   "cell_type": "markdown",
   "id": "e8064c51",
   "metadata": {},
   "source": [
    "### Question 2:"
   ]
  },
  {
   "cell_type": "code",
   "execution_count": 4,
   "id": "4aef5073",
   "metadata": {},
   "outputs": [],
   "source": [
    "# Write a function called count_vowels that takes a string as input and returns the \n",
    "# count of vowels (a, e, i, o, u) in the string.\n",
    "# Input: \"hello\"\n",
    "# Output: 2 (since there are two vowels 'e' and 'o' in the string)\n"
   ]
  },
  {
   "cell_type": "code",
   "execution_count": 8,
   "id": "e372444b",
   "metadata": {},
   "outputs": [],
   "source": [
    "def count_vowels(inputstr):\n",
    "    vowelstr = \"aeiou\"\n",
    "    count = 0\n",
    "    for ch in inputstr:\n",
    "        if ch in ['a','e','i','o','u','A','E','I','O','U']: # checking in list with vowels\n",
    "#         if ch.lower() in vowelstr: #or we can check by lower and directly in vowel str\n",
    "            count+=1\n",
    "    return count \n",
    "    #return sum([1 for ch in inputstr if ch.lower() in vowelstr])"
   ]
  },
  {
   "cell_type": "code",
   "execution_count": 10,
   "id": "cc4d0e47",
   "metadata": {},
   "outputs": [],
   "source": [
    "#Another approach by dictionary and taking count in string for each vowel\n",
    "def count_vowels_dictonary(s):\n",
    "    vowels = {'a': 0, 'e': 0, 'i': 0, 'o': 0, 'u': 0}\n",
    "    for char in s.lower():\n",
    "        if char in vowels:\n",
    "            vowels[char] += 1\n",
    "    return sum(vowels.values())"
   ]
  },
  {
   "cell_type": "code",
   "execution_count": 9,
   "id": "0575d873",
   "metadata": {},
   "outputs": [
    {
     "data": {
      "text/plain": [
       "2"
      ]
     },
     "execution_count": 9,
     "metadata": {},
     "output_type": "execute_result"
    }
   ],
   "source": [
    "count_vowels(\"hello\")"
   ]
  },
  {
   "cell_type": "markdown",
   "id": "a8b7270a",
   "metadata": {},
   "source": [
    "### Question 3: "
   ]
  },
  {
   "cell_type": "code",
   "execution_count": 11,
   "id": "f547bb47",
   "metadata": {},
   "outputs": [],
   "source": [
    "\n",
    "# Write a function called is_palindrome that takes a string as input and \n",
    "# returns True if the string is a palindrome, and False otherwise. \n",
    "# A palindrome is a word, phrase, number, or other sequence of characters that reads the \n",
    "# same forward and backward.\n",
    "\n",
    "# Input: \"radar\"\n",
    "# Output: True"
   ]
  },
  {
   "cell_type": "code",
   "execution_count": 13,
   "id": "2d4fc050",
   "metadata": {},
   "outputs": [
    {
     "data": {
      "text/plain": [
       "True"
      ]
     },
     "execution_count": 13,
     "metadata": {},
     "output_type": "execute_result"
    }
   ],
   "source": [
    "def is_palidrome(inputstr):\n",
    "    if inputstr[::-1].lower() == inputstr.lower():\n",
    "        return True\n",
    "    else:\n",
    "        return False\n",
    "    \n",
    "#     return inputstr[::-1].lower() == inputstr.lower()\n",
    "\n",
    "\n",
    "is_palidrome(\"Nitin\") \n"
   ]
  },
  {
   "cell_type": "markdown",
   "id": "69f224d0",
   "metadata": {},
   "source": [
    "### Question 4:"
   ]
  },
  {
   "cell_type": "code",
   "execution_count": null,
   "id": "eaab2e2b",
   "metadata": {},
   "outputs": [],
   "source": [
    "# Write a function called is_anagram that takes two strings as input \n",
    "# and returns True if they are anagrams of each other, and False otherwise. \n",
    "# An anagram is a word or phrase formed by rearranging the letters of another \n",
    "# word or phrase, using all the original letters exactly once.\n",
    "\n",
    "# Input: \"listen\", \"silent\"\n",
    "# Output: True (since \"listen\" and \"silent\" are anagrams of each other)"
   ]
  }
 ],
 "metadata": {
  "kernelspec": {
   "display_name": "Python 3 (ipykernel)",
   "language": "python",
   "name": "python3"
  },
  "language_info": {
   "codemirror_mode": {
    "name": "ipython",
    "version": 3
   },
   "file_extension": ".py",
   "mimetype": "text/x-python",
   "name": "python",
   "nbconvert_exporter": "python",
   "pygments_lexer": "ipython3",
   "version": "3.11.5"
  }
 },
 "nbformat": 4,
 "nbformat_minor": 5
}
